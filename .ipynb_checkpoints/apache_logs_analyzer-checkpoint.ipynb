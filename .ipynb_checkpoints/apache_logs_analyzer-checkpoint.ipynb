{
 "cells": [
  {
   "cell_type": "code",
   "execution_count": 5,
   "id": "e3f3c49e-00e9-4e26-ba08-b9b601f98c06",
   "metadata": {},
   "outputs": [],
   "source": [
    "import pandas as pd\n",
    "import matplotlib.pyplot as plt\n",
    "import re"
   ]
  },
  {
   "cell_type": "code",
   "execution_count": 93,
   "id": "1e65f41a-abb3-43cc-b4d0-8fa722a3e372",
   "metadata": {},
   "outputs": [],
   "source": [
    "# check the first 20 file entry's\n",
    "file_path = 'apache_test_logs/access.log'\n",
    "df = pd.read_csv(file_path, sep='\\t', header=None)\n",
    "print(df.head(20))\n"
   ]
  },
  {
   "cell_type": "code",
   "execution_count": 70,
   "id": "5abb1cba-537e-4b2a-b407-32e641fa52de",
   "metadata": {},
   "outputs": [
    {
     "name": "stdout",
     "output_type": "stream",
     "text": [
      "Distinct IP Count: 10180\n"
     ]
    }
   ],
   "source": [
    "# Count IP distinct\n",
    "ip_pattern = r'\\d+\\.\\d+\\.\\d+\\.\\d+'\n",
    "ip_addresses = []\n",
    "with open(file_path, 'r') as file:\n",
    "    log_data = file.read()\n",
    "    ip_addresses = re.findall(ip_pattern, log_data)\n",
    "df = pd.DataFrame({'IP': ip_addresses})\n",
    "distinct_ip_count = df['IP'].nunique()\n",
    "print(f\"Distinct IP Count: {distinct_ip_count}\")\n"
   ]
  },
  {
   "cell_type": "code",
   "execution_count": 82,
   "id": "efe367c7-cff2-4caa-9efc-9e66e625dd92",
   "metadata": {},
   "outputs": [],
   "source": [
    "# Count per IP\n",
    "ip_counts = df['IP'].value_counts()\n",
    "print (ip_counts.head(200))"
   ]
  },
  {
   "cell_type": "code",
   "execution_count": 91,
   "id": "6fdb3bb5-5eea-49c1-9bcf-3845ab61bda0",
   "metadata": {},
   "outputs": [],
   "source": [
    "# sorted ascending\n",
    "print (ip_counts.sort_values(ascending= True))\n"
   ]
  },
  {
   "cell_type": "code",
   "execution_count": 92,
   "id": "fdac7152-89ee-4d48-9104-4bac2f9533a7",
   "metadata": {},
   "outputs": [],
   "source": [
    "# extract IP, URL and HTTP Status code 404\n",
    "ip_addresses = []\n",
    "urls = []\n",
    "http_status_codes = []\n",
    "with open(file_path, 'r') as file:\n",
    "    for line in file:\n",
    "        ip_match = re.search(ip_pattern, line)\n",
    "        url_match = re.search(url_pattern, line)\n",
    "        http_status_match = re.search(http_status_pattern, line)\n",
    "\n",
    "        if ip_match:\n",
    "            ip = ip_match.group()\n",
    "        else:\n",
    "            ip = None\n",
    "\n",
    "        if url_match:\n",
    "            url = url_match.group(1)\n",
    "        else:\n",
    "            url = None\n",
    "\n",
    "        if http_status_match:\n",
    "            http_status = int(http_status_match.group(1))\n",
    "        else:\n",
    "            http_status = None\n",
    "\n",
    "        ip_addresses.append(ip)\n",
    "        urls.append(url)\n",
    "        http_status_codes.append(http_status)\n",
    "\n",
    "df = pd.DataFrame({'IP': ip_addresses, 'URL': urls, 'HTTP Status Code': http_status_codes})\n",
    "filtered_df = df[df['HTTP Status Code'] == 404]\n",
    "print(filtered_df)"
   ]
  },
  {
   "cell_type": "code",
   "execution_count": 106,
   "id": "901edc2b-eb9a-4a24-ba26-430279e7e295",
   "metadata": {},
   "outputs": [],
   "source": [
    "# IP and User Agent\n",
    "ip_addresses = []\n",
    "user_agents = []\n",
    "\n",
    "log_entry_pattern = r'(\\S+) \\S+ \\S+ \\[(.*?)\\] \"(.*?)\" \\d+ \\d+ \"(.*?)\" \"(.*?)\"'\n",
    "\n",
    "with open(file_path, 'r') as file:\n",
    "    for line in file:\n",
    "        # Use regular expressions to extract IP and User-Agent\n",
    "        match = re.match(log_entry_pattern, line)\n",
    "        if match:\n",
    "            ip = match.group(1)\n",
    "            user_agent = match.group(5)\n",
    "        else:\n",
    "            ip = None\n",
    "            user_agent = None\n",
    "\n",
    "        ip_addresses.append(ip)\n",
    "        user_agents.append(user_agent)\n",
    "\n",
    "df = pd.DataFrame({'IP': ip_addresses, 'User-Agent': user_agents})\n",
    "\n",
    "distinct_combinations = df.drop_duplicates()\n",
    "\n",
    "print(distinct_combinations.head(500))\n"
   ]
  },
  {
   "cell_type": "code",
   "execution_count": null,
   "id": "77fe4c39-6b7b-4e6f-b3f8-9cc189157d20",
   "metadata": {},
   "outputs": [],
   "source": []
  }
 ],
 "metadata": {
  "kernelspec": {
   "display_name": "Python 3 (ipykernel)",
   "language": "python",
   "name": "python3"
  },
  "language_info": {
   "codemirror_mode": {
    "name": "ipython",
    "version": 3
   },
   "file_extension": ".py",
   "mimetype": "text/x-python",
   "name": "python",
   "nbconvert_exporter": "python",
   "pygments_lexer": "ipython3",
   "version": "3.11.6"
  }
 },
 "nbformat": 4,
 "nbformat_minor": 5
}
